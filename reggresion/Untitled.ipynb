{
 "cells": [
  {
   "cell_type": "code",
   "execution_count": 43,
   "id": "2650b204",
   "metadata": {},
   "outputs": [],
   "source": [
    "import sklearn\n",
    "import pandas as pd\n",
    "import numpy as np\n",
    "import re\n",
    "import matplotlib.pyplot as plt"
   ]
  },
  {
   "cell_type": "code",
   "execution_count": 90,
   "id": "31b0e027",
   "metadata": {},
   "outputs": [
    {
     "name": "stdout",
     "output_type": "stream",
     "text": [
      "linear regression\n",
      "load data set\n"
     ]
    }
   ],
   "source": [
    "print('linear regression')\n",
    "print('load data set')"
   ]
  },
  {
   "cell_type": "code",
   "execution_count": 36,
   "id": "2747d310",
   "metadata": {
    "scrolled": true
   },
   "outputs": [
    {
     "data": {
      "text/html": [
       "<div>\n",
       "<style scoped>\n",
       "    .dataframe tbody tr th:only-of-type {\n",
       "        vertical-align: middle;\n",
       "    }\n",
       "\n",
       "    .dataframe tbody tr th {\n",
       "        vertical-align: top;\n",
       "    }\n",
       "\n",
       "    .dataframe thead th {\n",
       "        text-align: right;\n",
       "    }\n",
       "</style>\n",
       "<table border=\"1\" class=\"dataframe\">\n",
       "  <thead>\n",
       "    <tr style=\"text-align: right;\">\n",
       "      <th></th>\n",
       "      <th>Date</th>\n",
       "      <th>time</th>\n",
       "      <th>temperatur</th>\n",
       "      <th>humidity</th>\n",
       "      <th>wind_speed</th>\n",
       "      <th>general_diffuse_flows</th>\n",
       "      <th>general_deffuse</th>\n",
       "      <th>zone_1_power_consumption</th>\n",
       "      <th>zone_2_power_consumption</th>\n",
       "      <th>zone_3_power_consumption</th>\n",
       "    </tr>\n",
       "  </thead>\n",
       "  <tbody>\n",
       "    <tr>\n",
       "      <th>0</th>\n",
       "      <td>1/1/2017</td>\n",
       "      <td>0:00</td>\n",
       "      <td>6.559</td>\n",
       "      <td>73.8</td>\n",
       "      <td>0.083</td>\n",
       "      <td>0.051</td>\n",
       "      <td>0.119</td>\n",
       "      <td>34055.69620</td>\n",
       "      <td>16128.87538</td>\n",
       "      <td>20240.96386</td>\n",
       "    </tr>\n",
       "    <tr>\n",
       "      <th>1</th>\n",
       "      <td>1/1/2017</td>\n",
       "      <td>0:10</td>\n",
       "      <td>6.414</td>\n",
       "      <td>74.5</td>\n",
       "      <td>0.083</td>\n",
       "      <td>0.070</td>\n",
       "      <td>0.085</td>\n",
       "      <td>29814.68354</td>\n",
       "      <td>19375.07599</td>\n",
       "      <td>20131.08434</td>\n",
       "    </tr>\n",
       "    <tr>\n",
       "      <th>2</th>\n",
       "      <td>1/1/2017</td>\n",
       "      <td>0:20</td>\n",
       "      <td>6.313</td>\n",
       "      <td>74.5</td>\n",
       "      <td>0.080</td>\n",
       "      <td>0.062</td>\n",
       "      <td>0.100</td>\n",
       "      <td>29128.10127</td>\n",
       "      <td>19006.68693</td>\n",
       "      <td>19668.43373</td>\n",
       "    </tr>\n",
       "    <tr>\n",
       "      <th>3</th>\n",
       "      <td>1/1/2017</td>\n",
       "      <td>0:30</td>\n",
       "      <td>6.121</td>\n",
       "      <td>75.0</td>\n",
       "      <td>0.083</td>\n",
       "      <td>0.091</td>\n",
       "      <td>0.096</td>\n",
       "      <td>28228.86076</td>\n",
       "      <td>18361.09422</td>\n",
       "      <td>18899.27711</td>\n",
       "    </tr>\n",
       "    <tr>\n",
       "      <th>4</th>\n",
       "      <td>1/1/2017</td>\n",
       "      <td>0:40</td>\n",
       "      <td>5.921</td>\n",
       "      <td>75.7</td>\n",
       "      <td>0.081</td>\n",
       "      <td>0.048</td>\n",
       "      <td>0.085</td>\n",
       "      <td>27335.69620</td>\n",
       "      <td>17872.34043</td>\n",
       "      <td>18442.40964</td>\n",
       "    </tr>\n",
       "    <tr>\n",
       "      <th>...</th>\n",
       "      <td>...</td>\n",
       "      <td>...</td>\n",
       "      <td>...</td>\n",
       "      <td>...</td>\n",
       "      <td>...</td>\n",
       "      <td>...</td>\n",
       "      <td>...</td>\n",
       "      <td>...</td>\n",
       "      <td>...</td>\n",
       "      <td>...</td>\n",
       "    </tr>\n",
       "    <tr>\n",
       "      <th>52411</th>\n",
       "      <td>12/30/2017</td>\n",
       "      <td>23:10</td>\n",
       "      <td>7.010</td>\n",
       "      <td>72.4</td>\n",
       "      <td>0.080</td>\n",
       "      <td>0.040</td>\n",
       "      <td>0.096</td>\n",
       "      <td>31160.45627</td>\n",
       "      <td>26857.31820</td>\n",
       "      <td>14780.31212</td>\n",
       "    </tr>\n",
       "    <tr>\n",
       "      <th>52412</th>\n",
       "      <td>12/30/2017</td>\n",
       "      <td>23:20</td>\n",
       "      <td>6.947</td>\n",
       "      <td>72.6</td>\n",
       "      <td>0.082</td>\n",
       "      <td>0.051</td>\n",
       "      <td>0.093</td>\n",
       "      <td>30430.41825</td>\n",
       "      <td>26124.57809</td>\n",
       "      <td>14428.81152</td>\n",
       "    </tr>\n",
       "    <tr>\n",
       "      <th>52413</th>\n",
       "      <td>12/30/2017</td>\n",
       "      <td>23:30</td>\n",
       "      <td>6.900</td>\n",
       "      <td>72.8</td>\n",
       "      <td>0.086</td>\n",
       "      <td>0.084</td>\n",
       "      <td>0.074</td>\n",
       "      <td>29590.87452</td>\n",
       "      <td>25277.69254</td>\n",
       "      <td>13806.48259</td>\n",
       "    </tr>\n",
       "    <tr>\n",
       "      <th>52414</th>\n",
       "      <td>12/30/2017</td>\n",
       "      <td>23:40</td>\n",
       "      <td>6.758</td>\n",
       "      <td>73.0</td>\n",
       "      <td>0.080</td>\n",
       "      <td>0.066</td>\n",
       "      <td>0.089</td>\n",
       "      <td>28958.17490</td>\n",
       "      <td>24692.23688</td>\n",
       "      <td>13512.60504</td>\n",
       "    </tr>\n",
       "    <tr>\n",
       "      <th>52415</th>\n",
       "      <td>12/30/2017</td>\n",
       "      <td>23:50</td>\n",
       "      <td>6.580</td>\n",
       "      <td>74.1</td>\n",
       "      <td>0.081</td>\n",
       "      <td>0.062</td>\n",
       "      <td>0.111</td>\n",
       "      <td>28349.80989</td>\n",
       "      <td>24055.23167</td>\n",
       "      <td>13345.49820</td>\n",
       "    </tr>\n",
       "  </tbody>\n",
       "</table>\n",
       "<p>52416 rows × 10 columns</p>\n",
       "</div>"
      ],
      "text/plain": [
       "             Date   time  temperatur  humidity  wind_speed  \\\n",
       "0        1/1/2017   0:00       6.559      73.8       0.083   \n",
       "1        1/1/2017   0:10       6.414      74.5       0.083   \n",
       "2        1/1/2017   0:20       6.313      74.5       0.080   \n",
       "3        1/1/2017   0:30       6.121      75.0       0.083   \n",
       "4        1/1/2017   0:40       5.921      75.7       0.081   \n",
       "...           ...    ...         ...       ...         ...   \n",
       "52411  12/30/2017  23:10       7.010      72.4       0.080   \n",
       "52412  12/30/2017  23:20       6.947      72.6       0.082   \n",
       "52413  12/30/2017  23:30       6.900      72.8       0.086   \n",
       "52414  12/30/2017  23:40       6.758      73.0       0.080   \n",
       "52415  12/30/2017  23:50       6.580      74.1       0.081   \n",
       "\n",
       "       general_diffuse_flows  general_deffuse  zone_1_power_consumption  \\\n",
       "0                      0.051            0.119               34055.69620   \n",
       "1                      0.070            0.085               29814.68354   \n",
       "2                      0.062            0.100               29128.10127   \n",
       "3                      0.091            0.096               28228.86076   \n",
       "4                      0.048            0.085               27335.69620   \n",
       "...                      ...              ...                       ...   \n",
       "52411                  0.040            0.096               31160.45627   \n",
       "52412                  0.051            0.093               30430.41825   \n",
       "52413                  0.084            0.074               29590.87452   \n",
       "52414                  0.066            0.089               28958.17490   \n",
       "52415                  0.062            0.111               28349.80989   \n",
       "\n",
       "       zone_2_power_consumption  zone_3_power_consumption  \n",
       "0                   16128.87538               20240.96386  \n",
       "1                   19375.07599               20131.08434  \n",
       "2                   19006.68693               19668.43373  \n",
       "3                   18361.09422               18899.27711  \n",
       "4                   17872.34043               18442.40964  \n",
       "...                         ...                       ...  \n",
       "52411               26857.31820               14780.31212  \n",
       "52412               26124.57809               14428.81152  \n",
       "52413               25277.69254               13806.48259  \n",
       "52414               24692.23688               13512.60504  \n",
       "52415               24055.23167               13345.49820  \n",
       "\n",
       "[52416 rows x 10 columns]"
      ]
     },
     "execution_count": 36,
     "metadata": {},
     "output_type": "execute_result"
    }
   ],
   "source": [
    "df= pd.read_csv(\"bu_is.csv\")\n",
    "df"
   ]
  },
  {
   "cell_type": "code",
   "execution_count": 37,
   "id": "7b06f1eb",
   "metadata": {
    "scrolled": true
   },
   "outputs": [
    {
     "data": {
      "text/html": [
       "<div>\n",
       "<style scoped>\n",
       "    .dataframe tbody tr th:only-of-type {\n",
       "        vertical-align: middle;\n",
       "    }\n",
       "\n",
       "    .dataframe tbody tr th {\n",
       "        vertical-align: top;\n",
       "    }\n",
       "\n",
       "    .dataframe thead th {\n",
       "        text-align: right;\n",
       "    }\n",
       "</style>\n",
       "<table border=\"1\" class=\"dataframe\">\n",
       "  <thead>\n",
       "    <tr style=\"text-align: right;\">\n",
       "      <th></th>\n",
       "      <th>time</th>\n",
       "      <th>temperatur</th>\n",
       "      <th>humidity</th>\n",
       "      <th>wind_speed</th>\n",
       "      <th>general_diffuse_flows</th>\n",
       "      <th>general_deffuse</th>\n",
       "      <th>zone_1_power_consumption</th>\n",
       "    </tr>\n",
       "  </thead>\n",
       "  <tbody>\n",
       "    <tr>\n",
       "      <th>0</th>\n",
       "      <td>0:00</td>\n",
       "      <td>6.559</td>\n",
       "      <td>73.8</td>\n",
       "      <td>0.083</td>\n",
       "      <td>0.051</td>\n",
       "      <td>0.119</td>\n",
       "      <td>34055.69620</td>\n",
       "    </tr>\n",
       "    <tr>\n",
       "      <th>1</th>\n",
       "      <td>0:10</td>\n",
       "      <td>6.414</td>\n",
       "      <td>74.5</td>\n",
       "      <td>0.083</td>\n",
       "      <td>0.070</td>\n",
       "      <td>0.085</td>\n",
       "      <td>29814.68354</td>\n",
       "    </tr>\n",
       "    <tr>\n",
       "      <th>2</th>\n",
       "      <td>0:20</td>\n",
       "      <td>6.313</td>\n",
       "      <td>74.5</td>\n",
       "      <td>0.080</td>\n",
       "      <td>0.062</td>\n",
       "      <td>0.100</td>\n",
       "      <td>29128.10127</td>\n",
       "    </tr>\n",
       "    <tr>\n",
       "      <th>3</th>\n",
       "      <td>0:30</td>\n",
       "      <td>6.121</td>\n",
       "      <td>75.0</td>\n",
       "      <td>0.083</td>\n",
       "      <td>0.091</td>\n",
       "      <td>0.096</td>\n",
       "      <td>28228.86076</td>\n",
       "    </tr>\n",
       "    <tr>\n",
       "      <th>4</th>\n",
       "      <td>0:40</td>\n",
       "      <td>5.921</td>\n",
       "      <td>75.7</td>\n",
       "      <td>0.081</td>\n",
       "      <td>0.048</td>\n",
       "      <td>0.085</td>\n",
       "      <td>27335.69620</td>\n",
       "    </tr>\n",
       "  </tbody>\n",
       "</table>\n",
       "</div>"
      ],
      "text/plain": [
       "   time  temperatur  humidity  wind_speed  general_diffuse_flows  \\\n",
       "0  0:00       6.559      73.8       0.083                  0.051   \n",
       "1  0:10       6.414      74.5       0.083                  0.070   \n",
       "2  0:20       6.313      74.5       0.080                  0.062   \n",
       "3  0:30       6.121      75.0       0.083                  0.091   \n",
       "4  0:40       5.921      75.7       0.081                  0.048   \n",
       "\n",
       "   general_deffuse  zone_1_power_consumption  \n",
       "0            0.119               34055.69620  \n",
       "1            0.085               29814.68354  \n",
       "2            0.100               29128.10127  \n",
       "3            0.096               28228.86076  \n",
       "4            0.085               27335.69620  "
      ]
     },
     "execution_count": 37,
     "metadata": {},
     "output_type": "execute_result"
    }
   ],
   "source": [
    "df1 =df[['time','temperatur','humidity','wind_speed', 'general_diffuse_flows','general_deffuse', 'zone_1_power_consumption']]\n",
    "df1.head(5)"
   ]
  },
  {
   "cell_type": "code",
   "execution_count": 38,
   "id": "de1622ff",
   "metadata": {},
   "outputs": [
    {
     "name": "stdout",
     "output_type": "stream",
     "text": [
      "visualisasi zona 1\n"
     ]
    }
   ],
   "source": [
    "print('visualisasi zona 1')"
   ]
  },
  {
   "cell_type": "code",
   "execution_count": 39,
   "id": "fc461489",
   "metadata": {},
   "outputs": [
    {
     "data": {
      "image/png": "[encoded data removed]",
      "text/plain": [
       "<Figure size 640x480 with 6 Axes>"
      ]
     },
     "metadata": {},
     "output_type": "display_data"
    }
   ],
   "source": [
    "viz=df1 [['temperatur','humidity','wind_speed', 'general_diffuse_flows','general_deffuse', 'zone_1_power_consumption']]\n",
    "viz.hist()\n",
    "plt.show()"
   ]
  },
  {
   "cell_type": "code",
   "execution_count": 40,
   "id": "006813c0",
   "metadata": {},
   "outputs": [
    {
     "name": "stdout",
     "output_type": "stream",
     "text": [
      "deskripsi\n"
     ]
    },
    {
     "data": {
      "text/html": [
       "<div>\n",
       "<style scoped>\n",
       "    .dataframe tbody tr th:only-of-type {\n",
       "        vertical-align: middle;\n",
       "    }\n",
       "\n",
       "    .dataframe tbody tr th {\n",
       "        vertical-align: top;\n",
       "    }\n",
       "\n",
       "    .dataframe thead th {\n",
       "        text-align: right;\n",
       "    }\n",
       "</style>\n",
       "<table border=\"1\" class=\"dataframe\">\n",
       "  <thead>\n",
       "    <tr style=\"text-align: right;\">\n",
       "      <th></th>\n",
       "      <th>temperatur</th>\n",
       "      <th>humidity</th>\n",
       "      <th>wind_speed</th>\n",
       "      <th>general_diffuse_flows</th>\n",
       "      <th>general_deffuse</th>\n",
       "      <th>zone_1_power_consumption</th>\n",
       "    </tr>\n",
       "  </thead>\n",
       "  <tbody>\n",
       "    <tr>\n",
       "      <th>count</th>\n",
       "      <td>52416.000000</td>\n",
       "      <td>52416.000000</td>\n",
       "      <td>52416.000000</td>\n",
       "      <td>52416.000000</td>\n",
       "      <td>52416.000000</td>\n",
       "      <td>52416.000000</td>\n",
       "    </tr>\n",
       "    <tr>\n",
       "      <th>mean</th>\n",
       "      <td>18.810024</td>\n",
       "      <td>68.259518</td>\n",
       "      <td>1.959489</td>\n",
       "      <td>182.696614</td>\n",
       "      <td>75.028022</td>\n",
       "      <td>32344.970564</td>\n",
       "    </tr>\n",
       "    <tr>\n",
       "      <th>std</th>\n",
       "      <td>5.815476</td>\n",
       "      <td>15.551177</td>\n",
       "      <td>2.348862</td>\n",
       "      <td>264.400960</td>\n",
       "      <td>124.210949</td>\n",
       "      <td>7130.562564</td>\n",
       "    </tr>\n",
       "    <tr>\n",
       "      <th>min</th>\n",
       "      <td>3.247000</td>\n",
       "      <td>11.340000</td>\n",
       "      <td>0.050000</td>\n",
       "      <td>0.004000</td>\n",
       "      <td>0.011000</td>\n",
       "      <td>13895.696200</td>\n",
       "    </tr>\n",
       "    <tr>\n",
       "      <th>25%</th>\n",
       "      <td>14.410000</td>\n",
       "      <td>58.310000</td>\n",
       "      <td>0.078000</td>\n",
       "      <td>0.062000</td>\n",
       "      <td>0.122000</td>\n",
       "      <td>26310.668692</td>\n",
       "    </tr>\n",
       "    <tr>\n",
       "      <th>50%</th>\n",
       "      <td>18.780000</td>\n",
       "      <td>69.860000</td>\n",
       "      <td>0.086000</td>\n",
       "      <td>5.035500</td>\n",
       "      <td>4.456000</td>\n",
       "      <td>32265.920340</td>\n",
       "    </tr>\n",
       "    <tr>\n",
       "      <th>75%</th>\n",
       "      <td>22.890000</td>\n",
       "      <td>81.400000</td>\n",
       "      <td>4.915000</td>\n",
       "      <td>319.600000</td>\n",
       "      <td>101.000000</td>\n",
       "      <td>37309.018185</td>\n",
       "    </tr>\n",
       "    <tr>\n",
       "      <th>max</th>\n",
       "      <td>40.010000</td>\n",
       "      <td>94.800000</td>\n",
       "      <td>6.483000</td>\n",
       "      <td>1163.000000</td>\n",
       "      <td>936.000000</td>\n",
       "      <td>52204.395120</td>\n",
       "    </tr>\n",
       "  </tbody>\n",
       "</table>\n",
       "</div>"
      ],
      "text/plain": [
       "         temperatur      humidity    wind_speed  general_diffuse_flows  \\\n",
       "count  52416.000000  52416.000000  52416.000000           52416.000000   \n",
       "mean      18.810024     68.259518      1.959489             182.696614   \n",
       "std        5.815476     15.551177      2.348862             264.400960   \n",
       "min        3.247000     11.340000      0.050000               0.004000   \n",
       "25%       14.410000     58.310000      0.078000               0.062000   \n",
       "50%       18.780000     69.860000      0.086000               5.035500   \n",
       "75%       22.890000     81.400000      4.915000             319.600000   \n",
       "max       40.010000     94.800000      6.483000            1163.000000   \n",
       "\n",
       "       general_deffuse  zone_1_power_consumption  \n",
       "count     52416.000000              52416.000000  \n",
       "mean         75.028022              32344.970564  \n",
       "std         124.210949               7130.562564  \n",
       "min           0.011000              13895.696200  \n",
       "25%           0.122000              26310.668692  \n",
       "50%           4.456000              32265.920340  \n",
       "75%         101.000000              37309.018185  \n",
       "max         936.000000              52204.395120  "
      ]
     },
     "execution_count": 40,
     "metadata": {},
     "output_type": "execute_result"
    }
   ],
   "source": [
    "print('deskripsi')\n",
    "df1.describe()"
   ]
  },
  {
   "cell_type": "code",
   "execution_count": 41,
   "id": "92367b7a",
   "metadata": {},
   "outputs": [
    {
     "data": {
      "image/png": "[encoded data removed]",
      "text/plain": [
       "<Figure size 640x480 with 1 Axes>"
      ]
     },
     "metadata": {},
     "output_type": "display_data"
    }
   ],
   "source": [
    "plt.scatter(df1.temperatur , df1.zone_1_power_consumption ,color ='blue')\n",
    "plt.scatter(df1.humidity , df1.zone_1_power_consumption,color ='red')\n",
    "plt.scatter(df1.wind_speed , df1.zone_1_power_consumption,color ='green')\n",
    "plt.scatter(df1.general_diffuse_flows , df1.zone_1_power_consumption,color ='purple')\n",
    "plt.scatter(df1.general_deffuse , df1.zone_1_power_consumption,color  ='orange')\n",
    "plt.xlabel(\"temperatur','humidity','wind_speed', 'general_diffuse_flows','general_deffuse\")\n",
    "plt.ylabel('df1.zone_1_power_consumption')\n",
    "plt.show()"
   ]
  },
  {
   "cell_type": "code",
   "execution_count": 42,
   "id": "3d1444eb",
   "metadata": {},
   "outputs": [
    {
     "name": "stdout",
     "output_type": "stream",
     "text": [
      "proses regresi\n"
     ]
    }
   ],
   "source": [
    "print ('proses regresi')"
   ]
  },
  {
   "cell_type": "code",
   "execution_count": 45,
   "id": "8da55423",
   "metadata": {},
   "outputs": [],
   "source": [
    "msk = np.random.rand(len(df1)) <0.7\n",
    "train=df1[msk]\n",
    "test =df1[~msk]"
   ]
  },
  {
   "cell_type": "code",
   "execution_count": 47,
   "id": "541461c9",
   "metadata": {},
   "outputs": [
    {
     "name": "stdout",
     "output_type": "stream",
     "text": [
      "x_train [[6.559e+00 7.380e+01 8.300e-02 5.100e-02 1.190e-01]\n",
      " [6.121e+00 7.500e+01 8.300e-02 9.100e-02 9.600e-02]\n",
      " [5.921e+00 7.570e+01 8.100e-02 4.800e-02 8.500e-02]\n",
      " ...\n",
      " [6.900e+00 7.280e+01 8.600e-02 8.400e-02 7.400e-02]\n",
      " [6.758e+00 7.300e+01 8.000e-02 6.600e-02 8.900e-02]\n",
      " [6.580e+00 7.410e+01 8.100e-02 6.200e-02 1.110e-01]]\n",
      "y_train [34055.6962  28228.86076 27335.6962  ... 29590.87452 28958.1749\n",
      " 28349.80989]\n"
     ]
    }
   ],
   "source": [
    "x_train = np.array(train[['temperatur','humidity','wind_speed', 'general_diffuse_flows','general_deffuse']])\n",
    "y_train = np.array(train['zone_1_power_consumption'])\n",
    "print ('x_train',x_train)\n",
    "print ('y_train',y_train)"
   ]
  },
  {
   "cell_type": "code",
   "execution_count": 50,
   "id": "9b6e6bc8",
   "metadata": {},
   "outputs": [
    {
     "name": "stdout",
     "output_type": "stream",
     "text": [
      "x_train [[6.414e+00 7.450e+01 8.300e-02 7.000e-02 8.500e-02]\n",
      " [6.313e+00 7.450e+01 8.000e-02 6.200e-02 1.000e-01]\n",
      " [5.516e+00 7.750e+01 8.100e-02 5.100e-02 1.080e-01]\n",
      " ...\n",
      " [8.140e+00 6.973e+01 8.100e-02 6.200e-02 8.500e-02]\n",
      " [7.480e+00 7.100e+01 8.500e-02 6.200e-02 1.040e-01]\n",
      " [7.010e+00 7.240e+01 8.000e-02 4.000e-02 9.600e-02]]\n",
      "y_train [29814.68354 29128.10127 23896.70886 ... 34469.96198 33776.42586\n",
      " 31160.45627]\n"
     ]
    }
   ],
   "source": [
    "x_test = np.array(test[['temperatur','humidity','wind_speed', 'general_diffuse_flows','general_deffuse']])\n",
    "y_test = np.array(test['zone_1_power_consumption'])\n",
    "print ('x_train',x_test)\n",
    "print ('y_train',y_test)"
   ]
  },
  {
   "cell_type": "code",
   "execution_count": 53,
   "id": "bc1be87b",
   "metadata": {},
   "outputs": [],
   "source": [
    "from sklearn.linear_model import LinearRegression"
   ]
  },
  {
   "cell_type": "code",
   "execution_count": 54,
   "id": "2c17cfbe",
   "metadata": {},
   "outputs": [],
   "source": [
    "reg = LinearRegression()"
   ]
  },
  {
   "cell_type": "code",
   "execution_count": 55,
   "id": "5d16400a",
   "metadata": {},
   "outputs": [
    {
     "data": {
      "text/html": [
       "<style>#sk-container-id-1 {color: black;background-color: white;}#sk-container-id-1 pre{padding: 0;}#sk-container-id-1 div.sk-toggleable {background-color: white;}#sk-container-id-1 label.sk-toggleable__label {cursor: pointer;display: block;width: 100%;margin-bottom: 0;padding: 0.3em;box-sizing: border-box;text-align: center;}#sk-container-id-1 label.sk-toggleable__label-arrow:before {content: \"▸\";float: left;margin-right: 0.25em;color: #696969;}#sk-container-id-1 label.sk-toggleable__label-arrow:hover:before {color: black;}#sk-container-id-1 div.sk-estimator:hover label.sk-toggleable__label-arrow:before {color: black;}#sk-container-id-1 div.sk-toggleable__content {max-height: 0;max-width: 0;overflow: hidden;text-align: left;background-color: #f0f8ff;}#sk-container-id-1 div.sk-toggleable__content pre {margin: 0.2em;color: black;border-radius: 0.25em;background-color: #f0f8ff;}#sk-container-id-1 input.sk-toggleable__control:checked~div.sk-toggleable__content {max-height: 200px;max-width: 100%;overflow: auto;}#sk-container-id-1 input.sk-toggleable__control:checked~label.sk-toggleable__label-arrow:before {content: \"▾\";}#sk-container-id-1 div.sk-estimator input.sk-toggleable__control:checked~label.sk-toggleable__label {background-color: #d4ebff;}#sk-container-id-1 div.sk-label input.sk-toggleable__control:checked~label.sk-toggleable__label {background-color: #d4ebff;}#sk-container-id-1 input.sk-hidden--visually {border: 0;clip: rect(1px 1px 1px 1px);clip: rect(1px, 1px, 1px, 1px);height: 1px;margin: -1px;overflow: hidden;padding: 0;position: absolute;width: 1px;}#sk-container-id-1 div.sk-estimator {font-family: monospace;background-color: #f0f8ff;border: 1px dotted black;border-radius: 0.25em;box-sizing: border-box;margin-bottom: 0.5em;}#sk-container-id-1 div.sk-estimator:hover {background-color: #d4ebff;}#sk-container-id-1 div.sk-parallel-item::after {content: \"\";width: 100%;border-bottom: 1px solid gray;flex-grow: 1;}#sk-container-id-1 div.sk-label:hover label.sk-toggleable__label {background-color: #d4ebff;}#sk-container-id-1 div.sk-serial::before {content: \"\";position: absolute;border-left: 1px solid gray;box-sizing: border-box;top: 0;bottom: 0;left: 50%;z-index: 0;}#sk-container-id-1 div.sk-serial {display: flex;flex-direction: column;align-items: center;background-color: white;padding-right: 0.2em;padding-left: 0.2em;position: relative;}#sk-container-id-1 div.sk-item {position: relative;z-index: 1;}#sk-container-id-1 div.sk-parallel {display: flex;align-items: stretch;justify-content: center;background-color: white;position: relative;}#sk-container-id-1 div.sk-item::before, #sk-container-id-1 div.sk-parallel-item::before {content: \"\";position: absolute;border-left: 1px solid gray;box-sizing: border-box;top: 0;bottom: 0;left: 50%;z-index: -1;}#sk-container-id-1 div.sk-parallel-item {display: flex;flex-direction: column;z-index: 1;position: relative;background-color: white;}#sk-container-id-1 div.sk-parallel-item:first-child::after {align-self: flex-end;width: 50%;}#sk-container-id-1 div.sk-parallel-item:last-child::after {align-self: flex-start;width: 50%;}#sk-container-id-1 div.sk-parallel-item:only-child::after {width: 0;}#sk-container-id-1 div.sk-dashed-wrapped {border: 1px dashed gray;margin: 0 0.4em 0.5em 0.4em;box-sizing: border-box;padding-bottom: 0.4em;background-color: white;}#sk-container-id-1 div.sk-label label {font-family: monospace;font-weight: bold;display: inline-block;line-height: 1.2em;}#sk-container-id-1 div.sk-label-container {text-align: center;}#sk-container-id-1 div.sk-container {/* jupyter's `normalize.less` sets `[hidden] { display: none; }` but bootstrap.min.css set `[hidden] { display: none !important; }` so we also need the `!important` here to be able to override the default hidden behavior on the sphinx rendered scikit-learn.org. See: https://github.com/scikit-learn/scikit-learn/issues/21755 */display: inline-block !important;position: relative;}#sk-container-id-1 div.sk-text-repr-fallback {display: none;}</style><div id=\"sk-container-id-1\" class=\"sk-top-container\"><div class=\"sk-text-repr-fallback\"><pre>LinearRegression()</pre><b>In a Jupyter environment, please rerun this cell to show the HTML representation or trust the notebook. <br />On GitHub, the HTML representation is unable to render, please try loading this page with nbviewer.org.</b></div><div class=\"sk-container\" hidden><div class=\"sk-item\"><div class=\"sk-estimator sk-toggleable\"><input class=\"sk-toggleable__control sk-hidden--visually\" id=\"sk-estimator-id-1\" type=\"checkbox\" checked><label for=\"sk-estimator-id-1\" class=\"sk-toggleable__label sk-toggleable__label-arrow\">LinearRegression</label><div class=\"sk-toggleable__content\"><pre>LinearRegression()</pre></div></div></div></div></div>"
      ],
      "text/plain": [
       "LinearRegression()"
      ]
     },
     "execution_count": 55,
     "metadata": {},
     "output_type": "execute_result"
    }
   ],
   "source": [
    "reg.fit(df1[['temperatur','humidity','wind_speed', 'general_diffuse_flows','general_deffuse']],df1.zone_1_power_consumption)"
   ]
  },
  {
   "cell_type": "code",
   "execution_count": 57,
   "id": "0c170e59",
   "metadata": {},
   "outputs": [
    {
     "name": "stdout",
     "output_type": "stream",
     "text": [
      "cooficients [ 5.34860698e+02 -5.65100716e+01 -1.48701642e+02 -1.70196475e+00\n",
      " -8.73069389e-02]\n",
      "intercept 26750.451170193955\n"
     ]
    }
   ],
   "source": [
    "#the cofficion\n",
    "print('cooficients',reg.coef_)\n",
    "print ('intercept',reg.intercept_)"
   ]
  },
  {
   "cell_type": "code",
   "execution_count": 58,
   "id": "5b8d1d52",
   "metadata": {},
   "outputs": [
    {
     "data": {
      "text/plain": [
       "array([25928.83430194, 25874.83058152, 25272.16055918, ...,\n",
       "       27134.64476725, 26704.93234224, 26371.67231027])"
      ]
     },
     "execution_count": 58,
     "metadata": {},
     "output_type": "execute_result"
    }
   ],
   "source": [
    "model=LinearRegression()\n",
    "model.fit(x_train,y_train)\n",
    "y_pred = model.predict(x_test)\n",
    "y_pred"
   ]
  },
  {
   "cell_type": "code",
   "execution_count": 59,
   "id": "104b4b65",
   "metadata": {},
   "outputs": [
    {
     "data": {
      "text/plain": [
       "0.1979268258854976"
      ]
     },
     "execution_count": 59,
     "metadata": {},
     "output_type": "execute_result"
    }
   ],
   "source": [
    "from sklearn.metrics import r2_score\n",
    "r_square = r2_score(y_test,y_pred)\n",
    "r_square"
   ]
  },
  {
   "cell_type": "code",
   "execution_count": 60,
   "id": "27d673a7",
   "metadata": {},
   "outputs": [
    {
     "name": "stdout",
     "output_type": "stream",
     "text": [
      "KNN regresion\n"
     ]
    }
   ],
   "source": [
    "print ('KNN regresion')"
   ]
  },
  {
   "cell_type": "code",
   "execution_count": 61,
   "id": "722048de",
   "metadata": {},
   "outputs": [],
   "source": [
    "from sklearn.neighbors import KNeighborsRegressor"
   ]
  },
  {
   "cell_type": "code",
   "execution_count": 62,
   "id": "0be1ef84",
   "metadata": {},
   "outputs": [
    {
     "data": {
      "text/html": [
       "<style>#sk-container-id-2 {color: black;background-color: white;}#sk-container-id-2 pre{padding: 0;}#sk-container-id-2 div.sk-toggleable {background-color: white;}#sk-container-id-2 label.sk-toggleable__label {cursor: pointer;display: block;width: 100%;margin-bottom: 0;padding: 0.3em;box-sizing: border-box;text-align: center;}#sk-container-id-2 label.sk-toggleable__label-arrow:before {content: \"▸\";float: left;margin-right: 0.25em;color: #696969;}#sk-container-id-2 label.sk-toggleable__label-arrow:hover:before {color: black;}#sk-container-id-2 div.sk-estimator:hover label.sk-toggleable__label-arrow:before {color: black;}#sk-container-id-2 div.sk-toggleable__content {max-height: 0;max-width: 0;overflow: hidden;text-align: left;background-color: #f0f8ff;}#sk-container-id-2 div.sk-toggleable__content pre {margin: 0.2em;color: black;border-radius: 0.25em;background-color: #f0f8ff;}#sk-container-id-2 input.sk-toggleable__control:checked~div.sk-toggleable__content {max-height: 200px;max-width: 100%;overflow: auto;}#sk-container-id-2 input.sk-toggleable__control:checked~label.sk-toggleable__label-arrow:before {content: \"▾\";}#sk-container-id-2 div.sk-estimator input.sk-toggleable__control:checked~label.sk-toggleable__label {background-color: #d4ebff;}#sk-container-id-2 div.sk-label input.sk-toggleable__control:checked~label.sk-toggleable__label {background-color: #d4ebff;}#sk-container-id-2 input.sk-hidden--visually {border: 0;clip: rect(1px 1px 1px 1px);clip: rect(1px, 1px, 1px, 1px);height: 1px;margin: -1px;overflow: hidden;padding: 0;position: absolute;width: 1px;}#sk-container-id-2 div.sk-estimator {font-family: monospace;background-color: #f0f8ff;border: 1px dotted black;border-radius: 0.25em;box-sizing: border-box;margin-bottom: 0.5em;}#sk-container-id-2 div.sk-estimator:hover {background-color: #d4ebff;}#sk-container-id-2 div.sk-parallel-item::after {content: \"\";width: 100%;border-bottom: 1px solid gray;flex-grow: 1;}#sk-container-id-2 div.sk-label:hover label.sk-toggleable__label {background-color: #d4ebff;}#sk-container-id-2 div.sk-serial::before {content: \"\";position: absolute;border-left: 1px solid gray;box-sizing: border-box;top: 0;bottom: 0;left: 50%;z-index: 0;}#sk-container-id-2 div.sk-serial {display: flex;flex-direction: column;align-items: center;background-color: white;padding-right: 0.2em;padding-left: 0.2em;position: relative;}#sk-container-id-2 div.sk-item {position: relative;z-index: 1;}#sk-container-id-2 div.sk-parallel {display: flex;align-items: stretch;justify-content: center;background-color: white;position: relative;}#sk-container-id-2 div.sk-item::before, #sk-container-id-2 div.sk-parallel-item::before {content: \"\";position: absolute;border-left: 1px solid gray;box-sizing: border-box;top: 0;bottom: 0;left: 50%;z-index: -1;}#sk-container-id-2 div.sk-parallel-item {display: flex;flex-direction: column;z-index: 1;position: relative;background-color: white;}#sk-container-id-2 div.sk-parallel-item:first-child::after {align-self: flex-end;width: 50%;}#sk-container-id-2 div.sk-parallel-item:last-child::after {align-self: flex-start;width: 50%;}#sk-container-id-2 div.sk-parallel-item:only-child::after {width: 0;}#sk-container-id-2 div.sk-dashed-wrapped {border: 1px dashed gray;margin: 0 0.4em 0.5em 0.4em;box-sizing: border-box;padding-bottom: 0.4em;background-color: white;}#sk-container-id-2 div.sk-label label {font-family: monospace;font-weight: bold;display: inline-block;line-height: 1.2em;}#sk-container-id-2 div.sk-label-container {text-align: center;}#sk-container-id-2 div.sk-container {/* jupyter's `normalize.less` sets `[hidden] { display: none; }` but bootstrap.min.css set `[hidden] { display: none !important; }` so we also need the `!important` here to be able to override the default hidden behavior on the sphinx rendered scikit-learn.org. See: https://github.com/scikit-learn/scikit-learn/issues/21755 */display: inline-block !important;position: relative;}#sk-container-id-2 div.sk-text-repr-fallback {display: none;}</style><div id=\"sk-container-id-2\" class=\"sk-top-container\"><div class=\"sk-text-repr-fallback\"><pre>KNeighborsRegressor(n_neighbors=3)</pre><b>In a Jupyter environment, please rerun this cell to show the HTML representation or trust the notebook. <br />On GitHub, the HTML representation is unable to render, please try loading this page with nbviewer.org.</b></div><div class=\"sk-container\" hidden><div class=\"sk-item\"><div class=\"sk-estimator sk-toggleable\"><input class=\"sk-toggleable__control sk-hidden--visually\" id=\"sk-estimator-id-2\" type=\"checkbox\" checked><label for=\"sk-estimator-id-2\" class=\"sk-toggleable__label sk-toggleable__label-arrow\">KNeighborsRegressor</label><div class=\"sk-toggleable__content\"><pre>KNeighborsRegressor(n_neighbors=3)</pre></div></div></div></div></div>"
      ],
      "text/plain": [
       "KNeighborsRegressor(n_neighbors=3)"
      ]
     },
     "execution_count": 62,
     "metadata": {},
     "output_type": "execute_result"
    }
   ],
   "source": [
    "k = 3 #jumblah tetangga terdekat i jadikan acuan regresi \n",
    "model = KNeighborsRegressor(n_neighbors=k)\n",
    "model.fit (x_train, y_train)"
   ]
  },
  {
   "cell_type": "code",
   "execution_count": 63,
   "id": "e6bd88a4",
   "metadata": {},
   "outputs": [
    {
     "name": "stdout",
     "output_type": "stream",
     "text": [
      "x_test:[[6.414e+00 7.450e+01 8.300e-02 7.000e-02 8.500e-02]\n",
      " [6.313e+00 7.450e+01 8.000e-02 6.200e-02 1.000e-01]\n",
      " [5.516e+00 7.750e+01 8.100e-02 5.100e-02 1.080e-01]\n",
      " ...\n",
      " [8.140e+00 6.973e+01 8.100e-02 6.200e-02 8.500e-02]\n",
      " [7.480e+00 7.100e+01 8.500e-02 6.200e-02 1.040e-01]\n",
      " [7.010e+00 7.240e+01 8.000e-02 4.000e-02 9.600e-02]]\n",
      "y_test:[29814.68354 29128.10127 23896.70886 ... 34469.96198 33776.42586\n",
      " 31160.45627]\n"
     ]
    }
   ],
   "source": [
    "x_test = np.array (test[['temperatur','humidity','wind_speed', 'general_diffuse_flows','general_deffuse']])\n",
    "y_test = np.array (test['zone_1_power_consumption'])\n",
    "\n",
    "print (f\"x_test:{x_test}\")\n",
    "print (f\"y_test:{y_test}\")"
   ]
  },
  {
   "cell_type": "code",
   "execution_count": 64,
   "id": "0d0a0659",
   "metadata": {},
   "outputs": [
    {
     "data": {
      "text/plain": [
       "array([30211.45561667, 30211.45561667, 23795.44303667, ...,\n",
       "       35151.33079667, 33597.97211667, 30726.48922333])"
      ]
     },
     "execution_count": 64,
     "metadata": {},
     "output_type": "execute_result"
    }
   ],
   "source": [
    "y_pred = model.predict(x_test)\n",
    "y_pred"
   ]
  },
  {
   "cell_type": "code",
   "execution_count": 65,
   "id": "aa8e1a50",
   "metadata": {},
   "outputs": [
    {
     "name": "stdout",
     "output_type": "stream",
     "text": [
      "coefficien of determination /R^2\n"
     ]
    }
   ],
   "source": [
    "print ('coefficien of determination /R^2')"
   ]
  },
  {
   "cell_type": "code",
   "execution_count": 66,
   "id": "f311d335",
   "metadata": {},
   "outputs": [
    {
     "data": {
      "text/plain": [
       "0.27796247857284384"
      ]
     },
     "execution_count": 66,
     "metadata": {},
     "output_type": "execute_result"
    }
   ],
   "source": [
    "from sklearn.metrics import r2_score\n",
    "r_squared =r2_score(y_test, y_pred)\n",
    "r_squared"
   ]
  },
  {
   "cell_type": "code",
   "execution_count": 67,
   "id": "f483ffaa",
   "metadata": {},
   "outputs": [
    {
     "name": "stdout",
     "output_type": "stream",
     "text": [
      "Mean Absoulute Eror (MAE)\n"
     ]
    }
   ],
   "source": [
    "print('Mean Absoulute Eror (MAE)')"
   ]
  },
  {
   "cell_type": "code",
   "execution_count": 68,
   "id": "c59c80b6",
   "metadata": {},
   "outputs": [
    {
     "data": {
      "text/plain": [
       "4265.095392211476"
      ]
     },
     "execution_count": 68,
     "metadata": {},
     "output_type": "execute_result"
    }
   ],
   "source": [
    "from sklearn.metrics import mean_absolute_error\n",
    "\n",
    "MAE = mean_absolute_error(y_test, y_pred)\n",
    "MAE"
   ]
  },
  {
   "cell_type": "code",
   "execution_count": 69,
   "id": "7716d6d6",
   "metadata": {},
   "outputs": [
    {
     "name": "stdout",
     "output_type": "stream",
     "text": [
      "Mean Squered Error (MSE)\n"
     ]
    }
   ],
   "source": [
    "print ('Mean Squered Error (MSE)')"
   ]
  },
  {
   "cell_type": "code",
   "execution_count": 70,
   "id": "b7b36abf",
   "metadata": {},
   "outputs": [
    {
     "data": {
      "text/plain": [
       "36444746.32463631"
      ]
     },
     "execution_count": 70,
     "metadata": {},
     "output_type": "execute_result"
    }
   ],
   "source": [
    "from sklearn.metrics import mean_squared_error\n",
    "\n",
    "MSE = mean_squared_error(y_test, y_pred)\n",
    "MSE"
   ]
  },
  {
   "cell_type": "code",
   "execution_count": 71,
   "id": "eda98b87",
   "metadata": {},
   "outputs": [
    {
     "name": "stdout",
     "output_type": "stream",
     "text": [
      "Features scalling (Standard Scaler)\n"
     ]
    }
   ],
   "source": [
    "print ('Features scalling (Standard Scaler)')"
   ]
  },
  {
   "cell_type": "code",
   "execution_count": 72,
   "id": "cce9497f",
   "metadata": {},
   "outputs": [],
   "source": [
    "from sklearn.preprocessing import StandardScaler\n",
    "\n",
    "ss = StandardScaler()"
   ]
  },
  {
   "cell_type": "code",
   "execution_count": 73,
   "id": "701a6ced",
   "metadata": {},
   "outputs": [],
   "source": [
    "x_train = np.array(train[['temperatur','humidity','wind_speed', 'general_diffuse_flows','general_deffuse']])\n",
    "\n",
    "y_train = np.array(train['zone_1_power_consumption'])\n",
    "\n",
    "x_test = np.array(test[['temperatur','humidity','wind_speed', 'general_diffuse_flows','general_deffuse']])\n",
    "\n",
    "y_test = np.array(test['zone_1_power_consumption'])"
   ]
  },
  {
   "cell_type": "code",
   "execution_count": 74,
   "id": "3b581fd9",
   "metadata": {},
   "outputs": [
    {
     "name": "stdout",
     "output_type": "stream",
     "text": [
      "[[-2.09945064  0.35412674 -0.79824278 -0.69136303 -0.60531137]\n",
      " [-2.17453175  0.43122083 -0.79824278 -0.69121185 -0.60549786]\n",
      " [-2.20881536  0.47619238 -0.79909446 -0.69137437 -0.60558706]\n",
      " ...\n",
      " [-2.04099709  0.28988167 -0.79696526 -0.6912383  -0.60567625]\n",
      " [-2.06533845  0.30273068 -0.7995203  -0.69130634 -0.60555462]\n",
      " [-2.09585086  0.37340026 -0.79909446 -0.69132146 -0.60537624]]\n",
      "[[-2.12430626  0.39909829 -0.79824278 -0.69129122 -0.60558706]\n",
      " [-2.14161948  0.39909829 -0.7995203  -0.69132146 -0.60546543]\n",
      " [-2.27823967  0.59183352 -0.79909446 -0.69136303 -0.60540056]\n",
      " ...\n",
      " [-1.8284387   0.09264929 -0.79909446 -0.69132146 -0.60558706]\n",
      " [-1.94157462  0.17424053 -0.7973911  -0.69132146 -0.605433  ]\n",
      " [-2.0221411   0.26418364 -0.7995203  -0.69140461 -0.60549786]]\n"
     ]
    }
   ],
   "source": [
    "x_train_scaled = ss.fit_transform(x_train)\n",
    "x_test_scaled = ss.transform(x_test)\n",
    "\n",
    "print (x_train_scaled)\n",
    "print (x_test_scaled)"
   ]
  },
  {
   "cell_type": "code",
   "execution_count": 75,
   "id": "34eaf58f",
   "metadata": {},
   "outputs": [
    {
     "name": "stdout",
     "output_type": "stream",
     "text": [
      "Training dan Evaluasi Model\n"
     ]
    }
   ],
   "source": [
    "print ('Training dan Evaluasi Model')"
   ]
  },
  {
   "cell_type": "code",
   "execution_count": 76,
   "id": "3b96584d",
   "metadata": {},
   "outputs": [
    {
     "data": {
      "text/plain": [
       "array([40143.97972, 40143.97972, 40143.97972, ..., 40143.97972,\n",
       "       40143.97972, 40143.97972])"
      ]
     },
     "execution_count": 76,
     "metadata": {},
     "output_type": "execute_result"
    }
   ],
   "source": [
    "y_pred = model.predict (x_test_scaled)\n",
    "y_pred"
   ]
  },
  {
   "cell_type": "code",
   "execution_count": 77,
   "id": "bd11cce5",
   "metadata": {},
   "outputs": [
    {
     "name": "stdout",
     "output_type": "stream",
     "text": [
      "MAE: 9057.108714191745\n",
      "MSE: 113115542.04578963\n"
     ]
    }
   ],
   "source": [
    "MAE = mean_absolute_error(y_test, y_pred)\n",
    "MSE = mean_squared_error(y_test, y_pred)\n",
    "\n",
    "print (\"MAE:\",MAE)\n",
    "print (\"MSE:\",MSE)"
   ]
  },
  {
   "cell_type": "code",
   "execution_count": 78,
   "id": "5221523f",
   "metadata": {},
   "outputs": [
    {
     "name": "stdout",
     "output_type": "stream",
     "text": [
      "Polynominal Regression Quadratic\n"
     ]
    }
   ],
   "source": [
    "print ('Polynominal Regression Quadratic')"
   ]
  },
  {
   "cell_type": "code",
   "execution_count": 79,
   "id": "a75fa9f7",
   "metadata": {},
   "outputs": [
    {
     "name": "stdout",
     "output_type": "stream",
     "text": [
      "x_train:  [[6.559e+00 7.380e+01 8.300e-02 5.100e-02 1.190e-01]\n",
      " [6.121e+00 7.500e+01 8.300e-02 9.100e-02 9.600e-02]\n",
      " [5.921e+00 7.570e+01 8.100e-02 4.800e-02 8.500e-02]\n",
      " ...\n",
      " [6.900e+00 7.280e+01 8.600e-02 8.400e-02 7.400e-02]\n",
      " [6.758e+00 7.300e+01 8.000e-02 6.600e-02 8.900e-02]\n",
      " [6.580e+00 7.410e+01 8.100e-02 6.200e-02 1.110e-01]]\n",
      "y_train:  [[34055.6962 ]\n",
      " [28228.86076]\n",
      " [27335.6962 ]\n",
      " ...\n",
      " [29590.87452]\n",
      " [28958.1749 ]\n",
      " [28349.80989]]\n"
     ]
    }
   ],
   "source": [
    "x_train = np.array(train[['temperatur','humidity','wind_speed', 'general_diffuse_flows','general_deffuse']])\n",
    "y_train = np.array(train[['zone_1_power_consumption']])\n",
    "print(\"x_train: \", x_train)\n",
    "print(\"y_train: \", y_train)"
   ]
  },
  {
   "cell_type": "code",
   "execution_count": 80,
   "id": "3ad58c99",
   "metadata": {},
   "outputs": [],
   "source": [
    "from sklearn.preprocessing import PolynomialFeatures"
   ]
  },
  {
   "cell_type": "code",
   "execution_count": 82,
   "id": "b2a8ceca",
   "metadata": {},
   "outputs": [
    {
     "data": {
      "text/plain": [
       "array([[1.0000e+00, 6.5590e+00, 7.3800e+01, ..., 2.6010e-03, 6.0690e-03,\n",
       "        1.4161e-02],\n",
       "       [1.0000e+00, 6.1210e+00, 7.5000e+01, ..., 8.2810e-03, 8.7360e-03,\n",
       "        9.2160e-03],\n",
       "       [1.0000e+00, 5.9210e+00, 7.5700e+01, ..., 2.3040e-03, 4.0800e-03,\n",
       "        7.2250e-03],\n",
       "       ...,\n",
       "       [1.0000e+00, 6.9000e+00, 7.2800e+01, ..., 7.0560e-03, 6.2160e-03,\n",
       "        5.4760e-03],\n",
       "       [1.0000e+00, 6.7580e+00, 7.3000e+01, ..., 4.3560e-03, 5.8740e-03,\n",
       "        7.9210e-03],\n",
       "       [1.0000e+00, 6.5800e+00, 7.4100e+01, ..., 3.8440e-03, 6.8820e-03,\n",
       "        1.2321e-02]])"
      ]
     },
     "execution_count": 82,
     "metadata": {},
     "output_type": "execute_result"
    }
   ],
   "source": [
    "quadratic_features = PolynomialFeatures(degree=2)\n",
    "x_train_quadratic = quadratic_features.fit_transform(x_train)\n",
    "x_train_quadratic"
   ]
  },
  {
   "cell_type": "code",
   "execution_count": 84,
   "id": "6aec1ced",
   "metadata": {},
   "outputs": [
    {
     "data": {
      "text/plain": [
       "array([[1.0000e+00, 6.4140e+00, 7.4500e+01, ..., 4.9000e-03, 5.9500e-03,\n",
       "        7.2250e-03],\n",
       "       [1.0000e+00, 6.3130e+00, 7.4500e+01, ..., 3.8440e-03, 6.2000e-03,\n",
       "        1.0000e-02],\n",
       "       [1.0000e+00, 5.5160e+00, 7.7500e+01, ..., 2.6010e-03, 5.5080e-03,\n",
       "        1.1664e-02],\n",
       "       ...,\n",
       "       [1.0000e+00, 8.1400e+00, 6.9730e+01, ..., 3.8440e-03, 5.2700e-03,\n",
       "        7.2250e-03],\n",
       "       [1.0000e+00, 7.4800e+00, 7.1000e+01, ..., 3.8440e-03, 6.4480e-03,\n",
       "        1.0816e-02],\n",
       "       [1.0000e+00, 7.0100e+00, 7.2400e+01, ..., 1.6000e-03, 3.8400e-03,\n",
       "        9.2160e-03]])"
      ]
     },
     "execution_count": 84,
     "metadata": {},
     "output_type": "execute_result"
    }
   ],
   "source": [
    "quadratic_features = PolynomialFeatures(degree=2)\n",
    "x_test_quadratic = quadratic_features.fit_transform(x_test) \n",
    "x_test_quadratic"
   ]
  },
  {
   "cell_type": "code",
   "execution_count": 85,
   "id": "e31c5e80",
   "metadata": {},
   "outputs": [
    {
     "data": {
      "text/html": [
       "<style>#sk-container-id-4 {color: black;background-color: white;}#sk-container-id-4 pre{padding: 0;}#sk-container-id-4 div.sk-toggleable {background-color: white;}#sk-container-id-4 label.sk-toggleable__label {cursor: pointer;display: block;width: 100%;margin-bottom: 0;padding: 0.3em;box-sizing: border-box;text-align: center;}#sk-container-id-4 label.sk-toggleable__label-arrow:before {content: \"▸\";float: left;margin-right: 0.25em;color: #696969;}#sk-container-id-4 label.sk-toggleable__label-arrow:hover:before {color: black;}#sk-container-id-4 div.sk-estimator:hover label.sk-toggleable__label-arrow:before {color: black;}#sk-container-id-4 div.sk-toggleable__content {max-height: 0;max-width: 0;overflow: hidden;text-align: left;background-color: #f0f8ff;}#sk-container-id-4 div.sk-toggleable__content pre {margin: 0.2em;color: black;border-radius: 0.25em;background-color: #f0f8ff;}#sk-container-id-4 input.sk-toggleable__control:checked~div.sk-toggleable__content {max-height: 200px;max-width: 100%;overflow: auto;}#sk-container-id-4 input.sk-toggleable__control:checked~label.sk-toggleable__label-arrow:before {content: \"▾\";}#sk-container-id-4 div.sk-estimator input.sk-toggleable__control:checked~label.sk-toggleable__label {background-color: #d4ebff;}#sk-container-id-4 div.sk-label input.sk-toggleable__control:checked~label.sk-toggleable__label {background-color: #d4ebff;}#sk-container-id-4 input.sk-hidden--visually {border: 0;clip: rect(1px 1px 1px 1px);clip: rect(1px, 1px, 1px, 1px);height: 1px;margin: -1px;overflow: hidden;padding: 0;position: absolute;width: 1px;}#sk-container-id-4 div.sk-estimator {font-family: monospace;background-color: #f0f8ff;border: 1px dotted black;border-radius: 0.25em;box-sizing: border-box;margin-bottom: 0.5em;}#sk-container-id-4 div.sk-estimator:hover {background-color: #d4ebff;}#sk-container-id-4 div.sk-parallel-item::after {content: \"\";width: 100%;border-bottom: 1px solid gray;flex-grow: 1;}#sk-container-id-4 div.sk-label:hover label.sk-toggleable__label {background-color: #d4ebff;}#sk-container-id-4 div.sk-serial::before {content: \"\";position: absolute;border-left: 1px solid gray;box-sizing: border-box;top: 0;bottom: 0;left: 50%;z-index: 0;}#sk-container-id-4 div.sk-serial {display: flex;flex-direction: column;align-items: center;background-color: white;padding-right: 0.2em;padding-left: 0.2em;position: relative;}#sk-container-id-4 div.sk-item {position: relative;z-index: 1;}#sk-container-id-4 div.sk-parallel {display: flex;align-items: stretch;justify-content: center;background-color: white;position: relative;}#sk-container-id-4 div.sk-item::before, #sk-container-id-4 div.sk-parallel-item::before {content: \"\";position: absolute;border-left: 1px solid gray;box-sizing: border-box;top: 0;bottom: 0;left: 50%;z-index: -1;}#sk-container-id-4 div.sk-parallel-item {display: flex;flex-direction: column;z-index: 1;position: relative;background-color: white;}#sk-container-id-4 div.sk-parallel-item:first-child::after {align-self: flex-end;width: 50%;}#sk-container-id-4 div.sk-parallel-item:last-child::after {align-self: flex-start;width: 50%;}#sk-container-id-4 div.sk-parallel-item:only-child::after {width: 0;}#sk-container-id-4 div.sk-dashed-wrapped {border: 1px dashed gray;margin: 0 0.4em 0.5em 0.4em;box-sizing: border-box;padding-bottom: 0.4em;background-color: white;}#sk-container-id-4 div.sk-label label {font-family: monospace;font-weight: bold;display: inline-block;line-height: 1.2em;}#sk-container-id-4 div.sk-label-container {text-align: center;}#sk-container-id-4 div.sk-container {/* jupyter's `normalize.less` sets `[hidden] { display: none; }` but bootstrap.min.css set `[hidden] { display: none !important; }` so we also need the `!important` here to be able to override the default hidden behavior on the sphinx rendered scikit-learn.org. See: https://github.com/scikit-learn/scikit-learn/issues/21755 */display: inline-block !important;position: relative;}#sk-container-id-4 div.sk-text-repr-fallback {display: none;}</style><div id=\"sk-container-id-4\" class=\"sk-top-container\"><div class=\"sk-text-repr-fallback\"><pre>LinearRegression()</pre><b>In a Jupyter environment, please rerun this cell to show the HTML representation or trust the notebook. <br />On GitHub, the HTML representation is unable to render, please try loading this page with nbviewer.org.</b></div><div class=\"sk-container\" hidden><div class=\"sk-item\"><div class=\"sk-estimator sk-toggleable\"><input class=\"sk-toggleable__control sk-hidden--visually\" id=\"sk-estimator-id-4\" type=\"checkbox\" checked><label for=\"sk-estimator-id-4\" class=\"sk-toggleable__label sk-toggleable__label-arrow\">LinearRegression</label><div class=\"sk-toggleable__content\"><pre>LinearRegression()</pre></div></div></div></div></div>"
      ],
      "text/plain": [
       "LinearRegression()"
      ]
     },
     "execution_count": 85,
     "metadata": {},
     "output_type": "execute_result"
    }
   ],
   "source": [
    "model = LinearRegression()\n",
    "model.fit(x_train_quadratic, y_train)"
   ]
  },
  {
   "cell_type": "code",
   "execution_count": 86,
   "id": "383814ca",
   "metadata": {},
   "outputs": [],
   "source": [
    "y_pred = model.predict(x_test_quadratic)\n"
   ]
  },
  {
   "cell_type": "code",
   "execution_count": 87,
   "id": "df945e3c",
   "metadata": {},
   "outputs": [
    {
     "name": "stdout",
     "output_type": "stream",
     "text": [
      "y_pred [[27218.3327226 ]\n",
      " [27218.15825389]\n",
      " [26579.58350129]\n",
      " ...\n",
      " [28254.62070462]\n",
      " [27935.41661585]\n",
      " [27662.27524912]]\n"
     ]
    }
   ],
   "source": [
    "print ('y_pred',y_pred)"
   ]
  },
  {
   "cell_type": "code",
   "execution_count": 88,
   "id": "6ab8fe41",
   "metadata": {},
   "outputs": [
    {
     "name": "stdout",
     "output_type": "stream",
     "text": [
      "MAE: 4928.4872175361215\n",
      "MSE: 38002783.08737625\n"
     ]
    }
   ],
   "source": [
    "MAE = mean_absolute_error(y_test, y_pred)\n",
    "MSE = mean_squared_error(y_test, y_pred)\n",
    "\n",
    "print (\"MAE:\",MAE)\n",
    "print (\"MSE:\",MSE)"
   ]
  },
  {
   "cell_type": "code",
   "execution_count": 89,
   "id": "7f9de4ef",
   "metadata": {},
   "outputs": [
    {
     "data": {
      "text/plain": [
       "0.2470949018735742"
      ]
     },
     "execution_count": 89,
     "metadata": {},
     "output_type": "execute_result"
    }
   ],
   "source": [
    "r_squared =r2_score(y_test, y_pred)\n",
    "r_squared"
   ]
  },
  {
   "cell_type": "code",
   "execution_count": null,
   "id": "7d9c230b",
   "metadata": {},
   "outputs": [],
   "source": []
  }
 ],
 "metadata": {
  "kernelspec": {
   "display_name": "Python 3 (ipykernel)",
   "language": "python",
   "name": "python3"
  },
  "language_info": {
   "codemirror_mode": {
    "name": "ipython",
    "version": 3
   },
   "file_extension": ".py",
   "mimetype": "text/x-python",
   "name": "python",
   "nbconvert_exporter": "python",
   "pygments_lexer": "ipython3",
   "version": "3.10.9"
  }
 },
 "nbformat": 4,
 "nbformat_minor": 5
}
